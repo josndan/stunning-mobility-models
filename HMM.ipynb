{
 "cells": [
  {
   "cell_type": "code",
   "execution_count": 11,
   "id": "5689908b-c2f4-43f1-93e5-2a12d3f7b0f3",
   "metadata": {},
   "outputs": [
    {
     "name": "stdout",
     "output_type": "stream",
     "text": [
      "The autoreload extension is already loaded. To reload it, use:\n",
      "  %reload_ext autoreload\n"
     ]
    }
   ],
   "source": [
    "%load_ext autoreload\n",
    "%autoreload 2"
   ]
  },
  {
   "cell_type": "code",
   "execution_count": 12,
   "id": "6dd369e6-9527-45d3-905a-1eca77feed01",
   "metadata": {},
   "outputs": [],
   "source": [
    "from get_data import *\n",
    "from dataloader import *\n",
    "import pandas as pd\n",
    "import numpy as np\n",
    "from hmmlearn import hmm\n",
    "from hmm import *\n",
    "import pickle"
   ]
  },
  {
   "cell_type": "code",
   "execution_count": 13,
   "id": "2851a602-283d-44fb-ad19-2ac6050aeef4",
   "metadata": {},
   "outputs": [
    {
     "name": "stdout",
     "output_type": "stream",
     "text": [
      "force reload?\n",
      "loading?\n"
     ]
    }
   ],
   "source": [
    "x = get_data(force_reload=True,num_users=1)"
   ]
  },
  {
   "cell_type": "code",
   "execution_count": 14,
   "id": "42e7a5a6-7eed-491e-8caf-2c9ff431253a",
   "metadata": {},
   "outputs": [],
   "source": [
    "train,test_X,test_y = test_train_split(x,lookback = 1000)"
   ]
  },
  {
   "cell_type": "code",
   "execution_count": 15,
   "id": "4dcd7dab-18e2-491f-8117-36559fd9495c",
   "metadata": {},
   "outputs": [],
   "source": [
    "hmms = []"
   ]
  },
  {
   "cell_type": "code",
   "execution_count": 16,
   "id": "b5b61a2a-5f0a-4a3d-b80d-23523db73e7e",
   "metadata": {},
   "outputs": [
    {
     "name": "stderr",
     "output_type": "stream",
     "text": [
      "         1    -9648820.2189             +nan\n",
      "         2      -30350.3875    +9618469.8313\n",
      "         3      -30343.9520          +6.4355\n",
      "         4      -30336.4636          +7.4884\n",
      "         5      -30326.6517          +9.8120\n",
      "         6      -30311.8355         +14.8162\n",
      "         7      -30285.2245         +26.6110\n",
      "         8      -30225.2407         +59.9838\n",
      "         9      -30052.7876        +172.4531\n",
      "        10      -29496.3248        +556.4628\n"
     ]
    }
   ],
   "source": [
    "for i in range(len(train)):\n",
    "    hmm = HMM(type = \"MHMM\",n_components=10, n_iter=10,verbose=True)\n",
    "    hmm.train(train[i])\n",
    "    hmms.append(hmm)"
   ]
  },
  {
   "cell_type": "code",
   "execution_count": 17,
   "id": "c629cbe1-999b-458c-a901-77357467ad26",
   "metadata": {},
   "outputs": [],
   "source": [
    "prediction = None"
   ]
  },
  {
   "cell_type": "code",
   "execution_count": 18,
   "id": "867fe026-6938-4243-8182-4609e3448838",
   "metadata": {},
   "outputs": [],
   "source": [
    "num_user = len(test_X)"
   ]
  },
  {
   "cell_type": "code",
   "execution_count": 19,
   "id": "013a61c9-551d-4d02-97e4-1ea1463ab5eb",
   "metadata": {},
   "outputs": [],
   "source": [
    "evaluator = Metrics()"
   ]
  },
  {
   "cell_type": "code",
   "execution_count": 20,
   "id": "e6f66d49-612a-4def-ab1c-ec73458671ea",
   "metadata": {},
   "outputs": [
    {
     "name": "stdout",
     "output_type": "stream",
     "text": [
      "0.9559322033898305\n"
     ]
    }
   ],
   "source": [
    "for i in range(num_user):\n",
    "    prediction = hmms[i].predict(test_X[i])\n",
    "    print(evaluator.accuracy(prediction,test_y[i]))"
   ]
  },
  {
   "cell_type": "code",
   "execution_count": null,
   "id": "e5783a38-4e54-4ec0-afaa-9d29f5bb169a",
   "metadata": {},
   "outputs": [],
   "source": []
  }
 ],
 "metadata": {
  "kernelspec": {
   "display_name": "Python 3 (ipykernel)",
   "language": "python",
   "name": "python3"
  },
  "language_info": {
   "codemirror_mode": {
    "name": "ipython",
    "version": 3
   },
   "file_extension": ".py",
   "mimetype": "text/x-python",
   "name": "python",
   "nbconvert_exporter": "python",
   "pygments_lexer": "ipython3",
   "version": "3.9.7"
  }
 },
 "nbformat": 4,
 "nbformat_minor": 5
}
