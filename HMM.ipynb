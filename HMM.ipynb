{
 "cells": [
  {
   "cell_type": "code",
   "execution_count": 1,
   "id": "5689908b-c2f4-43f1-93e5-2a12d3f7b0f3",
   "metadata": {},
   "outputs": [],
   "source": [
    "%load_ext autoreload\n",
    "%autoreload 2"
   ]
  },
  {
   "cell_type": "code",
   "execution_count": 2,
   "id": "15736e70-e581-47c5-aedf-143240b31908",
   "metadata": {},
   "outputs": [
    {
     "name": "stdout",
     "output_type": "stream",
     "text": [
      "Requirement already satisfied: pandas in c:\\users\\joeda\\anaconda3\\lib\\site-packages (1.4.2)\n",
      "Requirement already satisfied: python-dateutil>=2.8.1 in c:\\users\\joeda\\anaconda3\\lib\\site-packages (from pandas) (2.8.2)\n",
      "Requirement already satisfied: pytz>=2020.1 in c:\\users\\joeda\\anaconda3\\lib\\site-packages (from pandas) (2021.3)\n",
      "Requirement already satisfied: numpy>=1.18.5 in c:\\users\\joeda\\anaconda3\\lib\\site-packages (from pandas) (1.20.3)\n",
      "Requirement already satisfied: six>=1.5 in c:\\users\\joeda\\anaconda3\\lib\\site-packages (from python-dateutil>=2.8.1->pandas) (1.16.0)\n"
     ]
    }
   ],
   "source": [
    "!pip install --upgrade pandas --user\n",
    "!pip install hmmlearn"
   ]
  },
  {
   "cell_type": "code",
   "execution_count": 69,
   "id": "6dd369e6-9527-45d3-905a-1eca77feed01",
   "metadata": {},
   "outputs": [],
   "source": [
    "from get_data import *\n",
    "from dataloader import *\n",
    "import pandas as pd\n",
    "import numpy as np\n",
    "from hmmlearn import hmm\n",
    "from hmm import *"
   ]
  },
  {
   "cell_type": "code",
   "execution_count": 78,
   "id": "2851a602-283d-44fb-ad19-2ac6050aeef4",
   "metadata": {},
   "outputs": [],
   "source": [
    "x = get_data(num_users=1)"
   ]
  },
  {
   "cell_type": "code",
   "execution_count": 79,
   "id": "42e7a5a6-7eed-491e-8caf-2c9ff431253a",
   "metadata": {},
   "outputs": [],
   "source": [
    "train,test_X,test_y = test_train_split(x)"
   ]
  },
  {
   "cell_type": "code",
   "execution_count": 80,
   "id": "4dcd7dab-18e2-491f-8117-36559fd9495c",
   "metadata": {},
   "outputs": [],
   "source": [
    "hmms = []"
   ]
  },
  {
   "cell_type": "code",
   "execution_count": 81,
   "id": "b5b61a2a-5f0a-4a3d-b80d-23523db73e7e",
   "metadata": {},
   "outputs": [],
   "source": [
    "for i in range(len(train)):\n",
    "    hmm = HMM(type = \"MHMM\",n_components=3, n_iter=100)\n",
    "    hmm.train(train[i])\n",
    "    hmms.append(hmm)"
   ]
  },
  {
   "cell_type": "code",
   "execution_count": 82,
   "id": "d7442852-6d46-45aa-91c8-c322b9573541",
   "metadata": {},
   "outputs": [],
   "source": [
    "import pickle\n",
    "\n",
    "with open('models.pkl', 'wb') as f:\n",
    "    pickle.dump(hmms, f)"
   ]
  },
  {
   "cell_type": "code",
   "execution_count": 256,
   "id": "e6f66d49-612a-4def-ab1c-ec73458671ea",
   "metadata": {},
   "outputs": [
    {
     "data": {
      "text/plain": [
       "12519325.262185724"
      ]
     },
     "execution_count": 256,
     "metadata": {},
     "output_type": "execute_result"
    }
   ],
   "source": [
    "model.score(x.iloc[:,1].values[:,None])"
   ]
  },
  {
   "cell_type": "code",
   "execution_count": null,
   "id": "ae98042e-756e-44e2-89f5-b2e51847905e",
   "metadata": {},
   "outputs": [],
   "source": []
  }
 ],
 "metadata": {
  "kernelspec": {
   "display_name": "Python 3 (ipykernel)",
   "language": "python",
   "name": "python3"
  },
  "language_info": {
   "codemirror_mode": {
    "name": "ipython",
    "version": 3
   },
   "file_extension": ".py",
   "mimetype": "text/x-python",
   "name": "python",
   "nbconvert_exporter": "python",
   "pygments_lexer": "ipython3",
   "version": "3.9.7"
  }
 },
 "nbformat": 4,
 "nbformat_minor": 5
}
