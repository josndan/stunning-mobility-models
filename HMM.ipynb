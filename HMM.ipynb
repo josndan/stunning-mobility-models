{
 "cells": [
  {
   "cell_type": "code",
   "execution_count": 2,
   "id": "5689908b-c2f4-43f1-93e5-2a12d3f7b0f3",
   "metadata": {},
   "outputs": [],
   "source": [
    "%load_ext autoreload\n",
    "%autoreload 2"
   ]
  },
  {
   "cell_type": "code",
   "execution_count": 172,
   "id": "6dd369e6-9527-45d3-905a-1eca77feed01",
   "metadata": {},
   "outputs": [],
   "source": [
    "from get_data import *\n",
    "from dataloader import *\n",
    "import pandas as pd\n",
    "import numpy as np\n",
    "from hmmlearn import hmm\n",
    "from hmm import *\n",
    "from experiments import *\n",
    "import pickle"
   ]
  },
  {
   "cell_type": "code",
   "execution_count": 173,
   "id": "2851a602-283d-44fb-ad19-2ac6050aeef4",
   "metadata": {},
   "outputs": [],
   "source": [
    "x = get_data(fill_missing_data=False,num_users=1)"
   ]
  },
  {
   "cell_type": "code",
   "execution_count": 179,
   "id": "704ac7c1-6dc6-43a7-ba54-bb10651a6b64",
   "metadata": {},
   "outputs": [
    {
     "name": "stderr",
     "output_type": "stream",
     "text": [
      "Fitting a model with 6476 free scalar parameters with only 3380 data points will result in a degenerate solution.\n"
     ]
    },
    {
     "name": "stdout",
     "output_type": "stream",
     "text": [
      "n_component  1\n",
      "Avg. Accuracy  32.73809523809524\n",
      "Avg. Recall  0.044642857142857144\n",
      "Avg. Precision  0.3416149068322981\n",
      "Avg. F-1 Score  0.3343465045592705\n",
      "\n"
     ]
    },
    {
     "name": "stderr",
     "output_type": "stream",
     "text": [
      "Fitting a model with 10804 free scalar parameters with only 3380 data points will result in a degenerate solution.\n"
     ]
    },
    {
     "name": "stdout",
     "output_type": "stream",
     "text": [
      "n_component  3\n",
      "Avg. Accuracy  33.63095238095239\n",
      "Avg. Recall  0.050595238095238096\n",
      "Avg. Precision  0.32125509182110457\n",
      "Avg. F-1 Score  0.3279458059441053\n",
      "\n"
     ]
    },
    {
     "name": "stderr",
     "output_type": "stream",
     "text": [
      "Fitting a model with 21659 free scalar parameters with only 3380 data points will result in a degenerate solution.\n"
     ]
    },
    {
     "name": "stdout",
     "output_type": "stream",
     "text": [
      "n_component  5\n",
      "Avg. Accuracy  33.92857142857142\n",
      "Avg. Recall  0.05373289345063539\n",
      "Avg. Precision  0.31520680492499376\n",
      "Avg. F-1 Score  0.3262323665259524\n",
      "\n"
     ]
    },
    {
     "name": "stderr",
     "output_type": "stream",
     "text": [
      "Fitting a model with 43519 free scalar parameters with only 3380 data points will result in a degenerate solution.\n"
     ]
    },
    {
     "name": "stdout",
     "output_type": "stream",
     "text": [
      "n_component  10\n",
      "Avg. Accuracy  33.92857142857143\n",
      "Avg. Recall  0.06027331203742494\n",
      "Avg. Precision  0.30589913269996943\n",
      "Avg. F-1 Score  0.32107080587096776\n",
      "\n"
     ]
    },
    {
     "name": "stderr",
     "output_type": "stream",
     "text": [
      "Fitting a model with 65579 free scalar parameters with only 3380 data points will result in a degenerate solution.\n"
     ]
    },
    {
     "name": "stdout",
     "output_type": "stream",
     "text": [
      "n_component  20\n",
      "Avg. Accuracy  33.92857142857143\n",
      "Avg. Recall  0.06435990085183634\n",
      "Avg. Precision  0.28384791492055295\n",
      "Avg. F-1 Score  0.306492330838516\n",
      "\n",
      "n_component  30\n",
      "Avg. Accuracy  34.22619047619048\n",
      "Avg. Recall  0.07844792975841364\n",
      "Avg. Precision  0.27272556595682934\n",
      "Avg. F-1 Score  0.30041956239300355\n",
      "\n",
      "Best n :  30\n",
      "Best acc:  35.714285714285715\n"
     ]
    },
    {
     "data": {
      "image/png": "[encoded data removed]",
      "text/plain": [
       "<Figure size 432x288 with 4 Axes>"
      ]
     },
     "metadata": {
      "needs_background": "light"
     },
     "output_type": "display_data"
    }
   ],
   "source": [
    "experiment(x)"
   ]
  },
  {
   "cell_type": "code",
   "execution_count": null,
   "id": "8680d28c-2720-43bb-850f-5639008c391f",
   "metadata": {},
   "outputs": [],
   "source": []
  }
 ],
 "metadata": {
  "kernelspec": {
   "display_name": "Python 3 (ipykernel)",
   "language": "python",
   "name": "python3"
  },
  "language_info": {
   "codemirror_mode": {
    "name": "ipython",
    "version": 3
   },
   "file_extension": ".py",
   "mimetype": "text/x-python",
   "name": "python",
   "nbconvert_exporter": "python",
   "pygments_lexer": "ipython3",
   "version": "3.9.7"
  }
 },
 "nbformat": 4,
 "nbformat_minor": 5
}
